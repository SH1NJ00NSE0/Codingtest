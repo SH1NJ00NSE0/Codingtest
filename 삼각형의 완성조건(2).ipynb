{
 "cells": [
  {
   "cell_type": "markdown",
   "metadata": {},
   "source": [
    "# 삼각형의 완성조건(2)\n",
    "\n",
    ">https://school.programmers.co.kr/learn/courses/30/lessons/120868\n",
    "\n",
    "---\n",
    "\n",
    "### 문제\n",
    "\n",
    "선분 세 개로 삼각형을 만들기 위해서는 다음과 같은 조건을 만족해야 합니다.\n",
    "* 가장 긴 변의 길이는 다른 두 변의 길이의 합보다 작아야 합니다.\n",
    "\n",
    "삼각형의 두 변의 길이가 담긴 배열 sides이 매개변수로 주어집니다.\n",
    "나머지 한 변이 될 수 있는 정수의 개수를 return하도록 solution 함수를 완성해주세요.\n",
    "\n",
    "---\n",
    "### 입력조건\n",
    "\n",
    "* sides의 원소는 자연수입니다.\n",
    "* sides의 길이는 2입니다.\n",
    "* 1 ≤ sides의 원소 ≤ 1,000\n",
    "\n",
    "---\n",
    "\n",
    "### 출력조건\n",
    "\n",
    "---\n"
   ]
  },
  {
   "cell_type": "code",
   "execution_count": 18,
   "metadata": {},
   "outputs": [
    {
     "name": "stdout",
     "output_type": "stream",
     "text": [
      "13\n"
     ]
    }
   ],
   "source": [
    "def solution(sides):\n",
    "\tanswer = 0\n",
    "\tfor x in range(1, sides[0] + sides[1]):\n",
    "\t\ttri = [sides[0],sides[1],x]\n",
    "\t\tmaxs = max(tri)\n",
    "\t\tmins = sum(tri)-maxs\n",
    "\t\tif maxs < mins:\n",
    "\t\t\tanswer+=1\n",
    "\treturn answer\n",
    "\n",
    "# sides=list(map(int,input().split()))\n",
    "# print(solution(sides))"
   ]
  }
 ],
 "metadata": {
  "kernelspec": {
   "display_name": "Python 3.10.6 64-bit",
   "language": "python",
   "name": "python3"
  },
  "language_info": {
   "codemirror_mode": {
    "name": "ipython",
    "version": 3
   },
   "file_extension": ".py",
   "mimetype": "text/x-python",
   "name": "python",
   "nbconvert_exporter": "python",
   "pygments_lexer": "ipython3",
   "version": "3.10.6"
  },
  "orig_nbformat": 4,
  "vscode": {
   "interpreter": {
    "hash": "afb734500600fd355917ca529030176ea0ca205570884b88f2f6f7d791fd3fbe"
   }
  }
 },
 "nbformat": 4,
 "nbformat_minor": 2
}

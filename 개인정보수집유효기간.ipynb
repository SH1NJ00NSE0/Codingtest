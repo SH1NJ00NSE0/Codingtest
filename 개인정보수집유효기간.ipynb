{
 "cells": [
  {
   "attachments": {},
   "cell_type": "markdown",
   "metadata": {},
   "source": [
    "# 개인정보 수집 유효기간\n",
    "\n",
    ">https://school.programmers.co.kr/learn/courses/30/lessons/150370\n",
    "---\n",
    "\n",
    "*문제가 너무 길어 생략ㅠㅠ*\n"
   ]
  },
  {
   "cell_type": "code",
   "execution_count": 36,
   "metadata": {},
   "outputs": [
    {
     "name": "stdout",
     "output_type": "stream",
     "text": [
      "2021 11 1\n",
      "2022 6 28\n",
      "2022 5 18\n",
      "2022 5 19\n",
      "[1, 3]\n",
      "2019 5 28\n",
      "2020 2 14\n",
      "2020 1 1\n",
      "2019 11 28\n",
      "2019 3 27\n",
      "[1, 4, 5]\n"
     ]
    }
   ],
   "source": [
    "def solution(today, terms, privacies):\n",
    "   answer = []\n",
    "   termsDict = {}\n",
    "   toYear = int(today[0:4])\n",
    "   toMonth = int(today[5:7])\n",
    "   toDay = int(today[8:10])\n",
    "   for i in range(len(terms)):\n",
    "      termsDict[terms[i][0]] = int(terms[i][2:])\n",
    "   for i in range(len(privacies)):\n",
    "      priYear = int(privacies[i][0:4])\n",
    "      priMonth = int(privacies[i][5:7])\n",
    "      priDay = int(privacies[i][8:10])\n",
    "      priMonth+=termsDict.get(privacies[i][-1])\n",
    "      priDay-=1\n",
    "      if priDay == 0:\n",
    "         priMonth -= 1\n",
    "         if priMonth == 0:\n",
    "            priYear -= 1\n",
    "            priMonth = 12\n",
    "         priDay = 28\n",
    "      if priMonth > 12:\n",
    "         priYear += priMonth // 12\n",
    "         priMonth %= 12\n",
    "      if toYear > priYear:\n",
    "         answer.append(i+1)\n",
    "         continue\n",
    "      if toMonth > priMonth:\n",
    "         answer.append(i+1)\n",
    "         continue\n",
    "      if toDay > priDay:\n",
    "         answer.append(i+1)\n",
    "         continue\n",
    "   return answer\n",
    "\n",
    "\n",
    "print(solution(\"2022.05.19\",[\"A 6\", \"B 12\", \"C 3\"],[\"2021.05.02 A\", \"2021.07.01 B\", \"2022.02.19 C\", \"2022.02.20 C\"]))\n",
    "#[1,3]\n",
    "print(solution(\"2020.01.01\",[\"Z 3\", \"D 5\"],[\"2019.01.01 D\", \"2019.11.15 Z\", \"2019.08.02 D\", \"2019.07.01 D\", \"2018.12.28 Z\"]))\n",
    "#[1,4,5]"
   ]
  }
 ],
 "metadata": {
  "kernelspec": {
   "display_name": "Python 3",
   "language": "python",
   "name": "python3"
  },
  "language_info": {
   "codemirror_mode": {
    "name": "ipython",
    "version": 3
   },
   "file_extension": ".py",
   "mimetype": "text/x-python",
   "name": "python",
   "nbconvert_exporter": "python",
   "pygments_lexer": "ipython3",
   "version": "3.11.1"
  },
  "orig_nbformat": 4,
  "vscode": {
   "interpreter": {
    "hash": "ebfc0a8d552866b0d59eba665220a57de3bc06f3ac643b8bef38dd8f66781fdd"
   }
  }
 },
 "nbformat": 4,
 "nbformat_minor": 2
}
